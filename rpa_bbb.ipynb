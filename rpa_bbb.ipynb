{
 "cells": [
  {
   "cell_type": "code",
   "execution_count": 5,
   "metadata": {},
   "outputs": [],
   "source": [
    "import pyautogui\n",
    "import time\n",
    "import webbrowser"
   ]
  },
  {
   "cell_type": "code",
   "execution_count": 26,
   "metadata": {},
   "outputs": [],
   "source": [
    "url = \"https://gshow.globo.com/realities/bbb/bbb22/votacao/paredao-bbb22-vote-para-eliminar-gustavo-pedro-scooby-ou-vinicius-46bd16d5-60b3-40db-85ee-8d6cf784150a.ghtml\"\n",
    "chrome_path = r'C:\\Program Files\\Google\\Chrome\\Application\\chrome.exe'\n",
    "webbrowser.register('chrome', None, webbrowser.BackgroundBrowser(chrome_path))\n",
    "driver = webbrowser.get('chrome').open(url)\n",
    "\n",
    "time.sleep(4)"
   ]
  },
  {
   "cell_type": "code",
   "execution_count": 27,
   "metadata": {},
   "outputs": [],
   "source": [
    "x=0\n",
    "\n",
    "while x < 5:\n",
    "\n",
    "    # scroll para descer a tela\n",
    "    pyautogui.scroll(-1000)\n",
    "    # click na foto do participante desejado\n",
    "    pyautogui.click(x=606, y=482)\n",
    "    # pausa ate que a confirmacao de pessoas seja ativada\n",
    "    time.sleep(3)\n",
    "    # click na confirmacao\n",
    "    pyautogui.click(x=555, y=369)\n",
    "    # pausa para o voto ser computado\n",
    "    time.sleep(5.2)\n",
    "    # scroll para cima\n",
    "    pyautogui.scroll(1000)\n",
    "    # esperar até que as propagandas sejam ajustadas\n",
    "    time.sleep(2.5)\n",
    "    # click em \"votar novamente\"\n",
    "    pyautogui.click(x=676, y=422)\n",
    "    # pausa até que a pagina seja recarregada\n",
    "    time.sleep(2)\n",
    "\n",
    "    # controle de votos por execucao\n",
    "    x += 1\n",
    "\n"
   ]
  },
  {
   "cell_type": "code",
   "execution_count": 28,
   "metadata": {},
   "outputs": [
    {
     "data": {
      "text/plain": [
       "Point(x=676, y=422)"
      ]
     },
     "execution_count": 28,
     "metadata": {},
     "output_type": "execute_result"
    }
   ],
   "source": [
    "time.sleep(4)\n",
    "pyautogui.position()"
   ]
  }
 ],
 "metadata": {
  "interpreter": {
   "hash": "dea5d8f8cc29cf9e16293dbdf8747b85e5f69ab66d8365066b488317c9976378"
  },
  "kernelspec": {
   "display_name": "Python 3.10.2 64-bit",
   "language": "python",
   "name": "python3"
  },
  "language_info": {
   "codemirror_mode": {
    "name": "ipython",
    "version": 3
   },
   "file_extension": ".py",
   "mimetype": "text/x-python",
   "name": "python",
   "nbconvert_exporter": "python",
   "pygments_lexer": "ipython3",
   "version": "3.10.2"
  },
  "orig_nbformat": 4
 },
 "nbformat": 4,
 "nbformat_minor": 2
}
